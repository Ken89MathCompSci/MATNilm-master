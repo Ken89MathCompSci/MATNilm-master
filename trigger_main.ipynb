{
 "cells": [
  {
   "cell_type": "code",
   "execution_count": null,
   "metadata": {},
   "outputs": [],
   "source": [
    "import subprocess\n",
    "import sys\n",
    "\n",
    "# Define the arguments for main.py\n",
    "args = [\n",
    "    'python', 'main.py',\n",
    "    '--batch', '32',\n",
    "    '--lr', '0.001',\n",
    "    '--dropout', '0.1',\n",
    "    '--hidden', '32',\n",
    "    '--logname', 'root',\n",
    "    '--subName', 'test',\n",
    "    '--inputLength', '864',\n",
    "    '--outputLength', '864',\n",
    "    '--prob0', '0.3',\n",
    "    '--prob1', '0.6',\n",
    "    '--prob2', '0.3',\n",
    "    '--prob3', '0.3'\n",
    "]\n",
    "\n",
    "# Run the main.py script with the specified arguments\n",
    "result = subprocess.run(args, capture_output=True, text=True)\n",
    "\n",
    "# Print the output\n",
    "print('STDOUT:', result.stdout)\n",
    "print('STDERR:', result.stderr)\n",
    "print('Return code:', result.returncode)"
   ]
  }
 ],
 "metadata": {
  "kernelspec": {
   "display_name": "Python 3",
   "language": "python",
   "name": "python3"
  },
  "language_info": {
   "codemirror_mode": {
    "name": "ipython",
    "version": 3
   },
   "file_extension": ".py",
   "mimetype": "text/x-python",
   "name": "python",
   "nbconvert_exporter": "python",
   "pygments_lexer": "ipython3",
   "version": "3.8.5"
  }
 },
 "nbformat": 4,
 "nbformat_minor": 4
}
